{
 "cells": [
  {
   "cell_type": "code",
   "execution_count": 1,
   "id": "f483629f",
   "metadata": {},
   "outputs": [],
   "source": [
    "l=[25, 36, 31, 17, 61, 19, 58, 39, 67, 81]\n",
    "s={}\n",
    "d={}"
   ]
  },
  {
   "cell_type": "code",
   "execution_count": 6,
   "id": "caa638b6",
   "metadata": {},
   "outputs": [
    {
     "data": {
      "text/plain": [
       "{'even': {'even': [58]}, 'prime': {'prime': [67]}}"
      ]
     },
     "execution_count": 6,
     "metadata": {},
     "output_type": "execute_result"
    }
   ],
   "source": [
    "for i in range(0,10):\n",
    "    for div in range(2,l[i]):\n",
    "        if l[i]%2==0:\n",
    "            s[\"even\"]=list()\n",
    "            s[\"even\"].append(l[i])\n",
    "        else:\n",
    "            if l[i] % div==0:\n",
    "                break\n",
    "    if div == (l[i]-1):\n",
    "        d[\"prime\"]=list()\n",
    "        d[\"prime\"].append(l[i])\n",
    "dict(zip([\"even\",\"prime\"],[s,d]))"
   ]
  },
  {
   "cell_type": "code",
   "execution_count": null,
   "id": "6b3de82f",
   "metadata": {},
   "outputs": [],
   "source": []
  }
 ],
 "metadata": {
  "kernelspec": {
   "display_name": "Python 3 (ipykernel)",
   "language": "python",
   "name": "python3"
  },
  "language_info": {
   "codemirror_mode": {
    "name": "ipython",
    "version": 3
   },
   "file_extension": ".py",
   "mimetype": "text/x-python",
   "name": "python",
   "nbconvert_exporter": "python",
   "pygments_lexer": "ipython3",
   "version": "3.9.13"
  }
 },
 "nbformat": 4,
 "nbformat_minor": 5
}
