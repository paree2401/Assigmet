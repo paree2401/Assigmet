{
 "cells": [
  {
   "cell_type": "code",
   "execution_count": 1,
   "id": "6347287a",
   "metadata": {},
   "outputs": [],
   "source": [
    "l=[]"
   ]
  },
  {
   "cell_type": "code",
   "execution_count": 2,
   "id": "6958dcde",
   "metadata": {},
   "outputs": [],
   "source": [
    "l.extend([25,36,31,17,61,19,58,39,67,81])"
   ]
  },
  {
   "cell_type": "code",
   "execution_count": 3,
   "id": "6449a167",
   "metadata": {},
   "outputs": [],
   "source": [
    "s={}"
   ]
  },
  {
   "cell_type": "code",
   "execution_count": 4,
   "id": "15265133",
   "metadata": {},
   "outputs": [],
   "source": [
    "d={}"
   ]
  },
  {
   "cell_type": "code",
   "execution_count": 5,
   "id": "663486c0",
   "metadata": {},
   "outputs": [],
   "source": [
    "none=[]"
   ]
  },
  {
   "cell_type": "code",
   "execution_count": 6,
   "id": "4a34152e",
   "metadata": {},
   "outputs": [
    {
     "name": "stdout",
     "output_type": "stream",
     "text": [
      "{'even': 36}\n",
      "{'even': 58}\n"
     ]
    }
   ],
   "source": [
    "for i in range(0,10):\n",
    "    if l[i]%2==0:\n",
    "        s[\"even\"]=l[i]\n",
    "        print(s)"
   ]
  },
  {
   "cell_type": "code",
   "execution_count": 7,
   "id": "046d3ba5",
   "metadata": {},
   "outputs": [
    {
     "name": "stdout",
     "output_type": "stream",
     "text": [
      "the number 25 is not prime\n",
      "the number 36 is not prime\n",
      "The number 31 is prime\n",
      "The number 17 is prime\n",
      "The number 61 is prime\n",
      "The number 19 is prime\n",
      "the number 58 is not prime\n",
      "the number 39 is not prime\n",
      "The number 67 is prime\n",
      "the number 81 is not prime\n"
     ]
    }
   ],
   "source": [
    "for i in range(0,10):\n",
    "    for div in range(2,l[i]):\n",
    "        if l[i] % div==0:\n",
    "            print(\"the number {} is not prime\".format(l[i]))\n",
    "            break\n",
    "    if div == (l[i]-1):\n",
    "        print(\"The number {} is prime\".format(l[i]))"
   ]
  },
  {
   "cell_type": "code",
   "execution_count": 8,
   "id": "31eafd08",
   "metadata": {},
   "outputs": [
    {
     "name": "stdout",
     "output_type": "stream",
     "text": [
      "{'even': [36]}\n",
      "{'prime': [31]}\n",
      "{'prime': [17]}\n",
      "{'prime': [61]}\n",
      "{'prime': [19]}\n",
      "{'even': [58]}\n",
      "{'prime': [67]}\n"
     ]
    }
   ],
   "source": [
    "for i in range(0,10):\n",
    "    for div in range(2,l[i]):\n",
    "        if l[i]%2==0:\n",
    "            s[\"even\"]=list()\n",
    "            s[\"even\"].append(l[i])\n",
    "            print(s)\n",
    "        if l[i] % div==0:\n",
    "            break\n",
    "    if div == (l[i]-1):\n",
    "        d[\"prime\"]=list()\n",
    "        d[\"prime\"].append(l[i])\n",
    "        print(d)\n",
    "    dict(zip(s,d))"
   ]
  },
  {
   "cell_type": "code",
   "execution_count": 9,
   "id": "2e346c89",
   "metadata": {},
   "outputs": [
    {
     "name": "stdout",
     "output_type": "stream",
     "text": [
      "{'even': [58, 36]}\n",
      "{'prime': [67, 31]}\n",
      "{'prime': [67, 31, 17]}\n",
      "{'prime': [67, 31, 17, 61]}\n",
      "{'prime': [67, 31, 17, 61, 19]}\n",
      "{'even': [58, 36, 58]}\n",
      "{'prime': [67, 31, 17, 61, 19, 67]}\n"
     ]
    }
   ],
   "source": [
    "for i in range(0,10):\n",
    "    for div in range(2,l[i]):\n",
    "        if l[i]%2==0:\n",
    "            s[\"even\"].append(l[i])\n",
    "            print(s)\n",
    "            \n",
    "        if l[i] % div==0:\n",
    "            break\n",
    "    if div == (l[i]-1):\n",
    "        d[\"prime\"].append(l[i])\n",
    "        print(d)"
   ]
  },
  {
   "cell_type": "code",
   "execution_count": null,
   "id": "4b6558ed",
   "metadata": {},
   "outputs": [],
   "source": []
  }
 ],
 "metadata": {
  "kernelspec": {
   "display_name": "Python 3 (ipykernel)",
   "language": "python",
   "name": "python3"
  },
  "language_info": {
   "codemirror_mode": {
    "name": "ipython",
    "version": 3
   },
   "file_extension": ".py",
   "mimetype": "text/x-python",
   "name": "python",
   "nbconvert_exporter": "python",
   "pygments_lexer": "ipython3",
   "version": "3.9.13"
  }
 },
 "nbformat": 4,
 "nbformat_minor": 5
}
