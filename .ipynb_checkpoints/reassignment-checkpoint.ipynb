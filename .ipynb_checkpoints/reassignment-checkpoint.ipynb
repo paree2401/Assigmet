{
 "cells": [
  {
   "cell_type": "code",
   "execution_count": 1,
   "id": "6919976a",
   "metadata": {},
   "outputs": [],
   "source": [
    "l=[25,36,31, 17, 61, 19, 58, 39, 67, 81]\n",
    "l1=[]\n",
    "l2=[]"
   ]
  },
  {
   "cell_type": "code",
   "execution_count": 2,
   "id": "72f4eb00",
   "metadata": {},
   "outputs": [
    {
     "name": "stdout",
     "output_type": "stream",
     "text": [
      "{'even': [36, 58], 'prime': [31, 17, 61, 19, 67]}\n"
     ]
    }
   ],
   "source": [
    "for i in range(0,10):\n",
    "    for div in range(2,l[i]):\n",
    "        if l[i]%2==0:\n",
    "            l1.append(l[i])\n",
    "        if l[i] % div==0:\n",
    "            break\n",
    "    if div == (l[i]-1):\n",
    "        l2.append(l[i])\n",
    "r=dict(zip([\"even\",\"prime\"],[l1,l2]))\n",
    "print(r)"
   ]
  },
  {
   "cell_type": "code",
   "execution_count": null,
   "id": "98a25736",
   "metadata": {},
   "outputs": [],
   "source": []
  }
 ],
 "metadata": {
  "kernelspec": {
   "display_name": "Python 3 (ipykernel)",
   "language": "python",
   "name": "python3"
  },
  "language_info": {
   "codemirror_mode": {
    "name": "ipython",
    "version": 3
   },
   "file_extension": ".py",
   "mimetype": "text/x-python",
   "name": "python",
   "nbconvert_exporter": "python",
   "pygments_lexer": "ipython3",
   "version": "3.9.13"
  }
 },
 "nbformat": 4,
 "nbformat_minor": 5
}
