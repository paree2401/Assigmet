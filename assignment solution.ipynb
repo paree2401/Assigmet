{
 "cells": [
  {
   "cell_type": "code",
   "execution_count": null,
   "id": "ecfb3752",
   "metadata": {},
   "outputs": [],
   "source": []
  },
  {
   "cell_type": "code",
   "execution_count": 1,
   "id": "a2c4b77d",
   "metadata": {},
   "outputs": [],
   "source": [
    "l=[25,36,31,17,61,19,58,39,67,81]"
   ]
  },
  {
   "cell_type": "code",
   "execution_count": 2,
   "id": "1d9f9cbb",
   "metadata": {},
   "outputs": [],
   "source": [
    "l1=[]\n",
    "l2=[]"
   ]
  },
  {
   "cell_type": "code",
   "execution_count": 3,
   "id": "3d53f996",
   "metadata": {},
   "outputs": [
    {
     "name": "stdout",
     "output_type": "stream",
     "text": [
      "[36]\n",
      "[31]\n",
      "[31, 17]\n",
      "[31, 17, 61]\n",
      "[31, 17, 61, 19]\n",
      "[36, 58]\n",
      "[31, 17, 61, 19, 67]\n"
     ]
    },
    {
     "data": {
      "text/plain": [
       "{'even': [36, 58], 'prime': [31, 17, 61, 19, 67]}"
      ]
     },
     "execution_count": 3,
     "metadata": {},
     "output_type": "execute_result"
    }
   ],
   "source": [
    "for i in range(0,10):\n",
    "    for div in range(2,l[i]):\n",
    "        if l[i]%2==0:\n",
    "            l1.append(l[i])\n",
    "            print(l1)\n",
    "            break\n",
    "        if l[i] % div==0:\n",
    "            break\n",
    "    if div == (l[i]-1):\n",
    "        l2.append(l[i])\n",
    "        print(l2)\n",
    "dict(zip([\"even\",\"prime\"],[l1,l2]))"
   ]
  }
 ],
 "metadata": {
  "kernelspec": {
   "display_name": "Python 3 (ipykernel)",
   "language": "python",
   "name": "python3"
  },
  "language_info": {
   "codemirror_mode": {
    "name": "ipython",
    "version": 3
   },
   "file_extension": ".py",
   "mimetype": "text/x-python",
   "name": "python",
   "nbconvert_exporter": "python",
   "pygments_lexer": "ipython3",
   "version": "3.9.13"
  }
 },
 "nbformat": 4,
 "nbformat_minor": 5
}
